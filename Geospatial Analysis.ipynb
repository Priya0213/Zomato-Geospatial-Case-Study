{
 "cells": [
  {
   "cell_type": "markdown",
   "id": "64856f2c-46c2-47b0-8943-3c1c2f8ae531",
   "metadata": {},
   "source": [
    "## Data Cleaning & Advance Analysis"
   ]
  },
  {
   "cell_type": "code",
   "execution_count": 1,
   "id": "50927a99-2814-4051-9841-22cb0f195d08",
   "metadata": {},
   "outputs": [],
   "source": [
    "import pandas as pd\n",
    "import numpy as np"
   ]
  },
  {
   "cell_type": "code",
   "execution_count": 2,
   "id": "92561408-dfbf-4470-b43a-03ac87232d48",
   "metadata": {},
   "outputs": [],
   "source": [
    "# Load dataset\n",
    "df = pd.read_csv(r\"E:\\Major Projects\\Zomato Geospatial Case Study\\data\\raw\\zomato.csv\")"
   ]
  },
  {
   "cell_type": "code",
   "execution_count": 3,
   "id": "a7f25860-e3f9-4f20-8643-abfb6342cd9d",
   "metadata": {},
   "outputs": [
    {
     "name": "stdout",
     "output_type": "stream",
     "text": [
      "(51717, 17)\n"
     ]
    },
    {
     "data": {
      "text/html": [
       "<div>\n",
       "<style scoped>\n",
       "    .dataframe tbody tr th:only-of-type {\n",
       "        vertical-align: middle;\n",
       "    }\n",
       "\n",
       "    .dataframe tbody tr th {\n",
       "        vertical-align: top;\n",
       "    }\n",
       "\n",
       "    .dataframe thead th {\n",
       "        text-align: right;\n",
       "    }\n",
       "</style>\n",
       "<table border=\"1\" class=\"dataframe\">\n",
       "  <thead>\n",
       "    <tr style=\"text-align: right;\">\n",
       "      <th></th>\n",
       "      <th>url</th>\n",
       "      <th>address</th>\n",
       "      <th>name</th>\n",
       "      <th>online_order</th>\n",
       "      <th>book_table</th>\n",
       "      <th>rate</th>\n",
       "      <th>votes</th>\n",
       "      <th>phone</th>\n",
       "      <th>location</th>\n",
       "      <th>rest_type</th>\n",
       "      <th>dish_liked</th>\n",
       "      <th>cuisines</th>\n",
       "      <th>approx_cost(for two people)</th>\n",
       "      <th>reviews_list</th>\n",
       "      <th>menu_item</th>\n",
       "      <th>listed_in(type)</th>\n",
       "      <th>listed_in(city)</th>\n",
       "    </tr>\n",
       "  </thead>\n",
       "  <tbody>\n",
       "    <tr>\n",
       "      <th>0</th>\n",
       "      <td>https://www.zomato.com/bangalore/jalsa-banasha...</td>\n",
       "      <td>942, 21st Main Road, 2nd Stage, Banashankari, ...</td>\n",
       "      <td>Jalsa</td>\n",
       "      <td>Yes</td>\n",
       "      <td>Yes</td>\n",
       "      <td>4.1/5</td>\n",
       "      <td>775</td>\n",
       "      <td>080 42297555\\r\\n+91 9743772233</td>\n",
       "      <td>Banashankari</td>\n",
       "      <td>Casual Dining</td>\n",
       "      <td>Pasta, Lunch Buffet, Masala Papad, Paneer Laja...</td>\n",
       "      <td>North Indian, Mughlai, Chinese</td>\n",
       "      <td>800</td>\n",
       "      <td>[('Rated 4.0', 'RATED\\n  A beautiful place to ...</td>\n",
       "      <td>[]</td>\n",
       "      <td>Buffet</td>\n",
       "      <td>Banashankari</td>\n",
       "    </tr>\n",
       "    <tr>\n",
       "      <th>1</th>\n",
       "      <td>https://www.zomato.com/bangalore/spice-elephan...</td>\n",
       "      <td>2nd Floor, 80 Feet Road, Near Big Bazaar, 6th ...</td>\n",
       "      <td>Spice Elephant</td>\n",
       "      <td>Yes</td>\n",
       "      <td>No</td>\n",
       "      <td>4.1/5</td>\n",
       "      <td>787</td>\n",
       "      <td>080 41714161</td>\n",
       "      <td>Banashankari</td>\n",
       "      <td>Casual Dining</td>\n",
       "      <td>Momos, Lunch Buffet, Chocolate Nirvana, Thai G...</td>\n",
       "      <td>Chinese, North Indian, Thai</td>\n",
       "      <td>800</td>\n",
       "      <td>[('Rated 4.0', 'RATED\\n  Had been here for din...</td>\n",
       "      <td>[]</td>\n",
       "      <td>Buffet</td>\n",
       "      <td>Banashankari</td>\n",
       "    </tr>\n",
       "    <tr>\n",
       "      <th>2</th>\n",
       "      <td>https://www.zomato.com/SanchurroBangalore?cont...</td>\n",
       "      <td>1112, Next to KIMS Medical College, 17th Cross...</td>\n",
       "      <td>San Churro Cafe</td>\n",
       "      <td>Yes</td>\n",
       "      <td>No</td>\n",
       "      <td>3.8/5</td>\n",
       "      <td>918</td>\n",
       "      <td>+91 9663487993</td>\n",
       "      <td>Banashankari</td>\n",
       "      <td>Cafe, Casual Dining</td>\n",
       "      <td>Churros, Cannelloni, Minestrone Soup, Hot Choc...</td>\n",
       "      <td>Cafe, Mexican, Italian</td>\n",
       "      <td>800</td>\n",
       "      <td>[('Rated 3.0', \"RATED\\n  Ambience is not that ...</td>\n",
       "      <td>[]</td>\n",
       "      <td>Buffet</td>\n",
       "      <td>Banashankari</td>\n",
       "    </tr>\n",
       "    <tr>\n",
       "      <th>3</th>\n",
       "      <td>https://www.zomato.com/bangalore/addhuri-udupi...</td>\n",
       "      <td>1st Floor, Annakuteera, 3rd Stage, Banashankar...</td>\n",
       "      <td>Addhuri Udupi Bhojana</td>\n",
       "      <td>No</td>\n",
       "      <td>No</td>\n",
       "      <td>3.7/5</td>\n",
       "      <td>88</td>\n",
       "      <td>+91 9620009302</td>\n",
       "      <td>Banashankari</td>\n",
       "      <td>Quick Bites</td>\n",
       "      <td>Masala Dosa</td>\n",
       "      <td>South Indian, North Indian</td>\n",
       "      <td>300</td>\n",
       "      <td>[('Rated 4.0', \"RATED\\n  Great food and proper...</td>\n",
       "      <td>[]</td>\n",
       "      <td>Buffet</td>\n",
       "      <td>Banashankari</td>\n",
       "    </tr>\n",
       "    <tr>\n",
       "      <th>4</th>\n",
       "      <td>https://www.zomato.com/bangalore/grand-village...</td>\n",
       "      <td>10, 3rd Floor, Lakshmi Associates, Gandhi Baza...</td>\n",
       "      <td>Grand Village</td>\n",
       "      <td>No</td>\n",
       "      <td>No</td>\n",
       "      <td>3.8/5</td>\n",
       "      <td>166</td>\n",
       "      <td>+91 8026612447\\r\\n+91 9901210005</td>\n",
       "      <td>Basavanagudi</td>\n",
       "      <td>Casual Dining</td>\n",
       "      <td>Panipuri, Gol Gappe</td>\n",
       "      <td>North Indian, Rajasthani</td>\n",
       "      <td>600</td>\n",
       "      <td>[('Rated 4.0', 'RATED\\n  Very good restaurant ...</td>\n",
       "      <td>[]</td>\n",
       "      <td>Buffet</td>\n",
       "      <td>Banashankari</td>\n",
       "    </tr>\n",
       "  </tbody>\n",
       "</table>\n",
       "</div>"
      ],
      "text/plain": [
       "                                                 url  \\\n",
       "0  https://www.zomato.com/bangalore/jalsa-banasha...   \n",
       "1  https://www.zomato.com/bangalore/spice-elephan...   \n",
       "2  https://www.zomato.com/SanchurroBangalore?cont...   \n",
       "3  https://www.zomato.com/bangalore/addhuri-udupi...   \n",
       "4  https://www.zomato.com/bangalore/grand-village...   \n",
       "\n",
       "                                             address                   name  \\\n",
       "0  942, 21st Main Road, 2nd Stage, Banashankari, ...                  Jalsa   \n",
       "1  2nd Floor, 80 Feet Road, Near Big Bazaar, 6th ...         Spice Elephant   \n",
       "2  1112, Next to KIMS Medical College, 17th Cross...        San Churro Cafe   \n",
       "3  1st Floor, Annakuteera, 3rd Stage, Banashankar...  Addhuri Udupi Bhojana   \n",
       "4  10, 3rd Floor, Lakshmi Associates, Gandhi Baza...          Grand Village   \n",
       "\n",
       "  online_order book_table   rate  votes                             phone  \\\n",
       "0          Yes        Yes  4.1/5    775    080 42297555\\r\\n+91 9743772233   \n",
       "1          Yes         No  4.1/5    787                      080 41714161   \n",
       "2          Yes         No  3.8/5    918                    +91 9663487993   \n",
       "3           No         No  3.7/5     88                    +91 9620009302   \n",
       "4           No         No  3.8/5    166  +91 8026612447\\r\\n+91 9901210005   \n",
       "\n",
       "       location            rest_type  \\\n",
       "0  Banashankari        Casual Dining   \n",
       "1  Banashankari        Casual Dining   \n",
       "2  Banashankari  Cafe, Casual Dining   \n",
       "3  Banashankari          Quick Bites   \n",
       "4  Basavanagudi        Casual Dining   \n",
       "\n",
       "                                          dish_liked  \\\n",
       "0  Pasta, Lunch Buffet, Masala Papad, Paneer Laja...   \n",
       "1  Momos, Lunch Buffet, Chocolate Nirvana, Thai G...   \n",
       "2  Churros, Cannelloni, Minestrone Soup, Hot Choc...   \n",
       "3                                        Masala Dosa   \n",
       "4                                Panipuri, Gol Gappe   \n",
       "\n",
       "                         cuisines approx_cost(for two people)  \\\n",
       "0  North Indian, Mughlai, Chinese                         800   \n",
       "1     Chinese, North Indian, Thai                         800   \n",
       "2          Cafe, Mexican, Italian                         800   \n",
       "3      South Indian, North Indian                         300   \n",
       "4        North Indian, Rajasthani                         600   \n",
       "\n",
       "                                        reviews_list menu_item  \\\n",
       "0  [('Rated 4.0', 'RATED\\n  A beautiful place to ...        []   \n",
       "1  [('Rated 4.0', 'RATED\\n  Had been here for din...        []   \n",
       "2  [('Rated 3.0', \"RATED\\n  Ambience is not that ...        []   \n",
       "3  [('Rated 4.0', \"RATED\\n  Great food and proper...        []   \n",
       "4  [('Rated 4.0', 'RATED\\n  Very good restaurant ...        []   \n",
       "\n",
       "  listed_in(type) listed_in(city)  \n",
       "0          Buffet    Banashankari  \n",
       "1          Buffet    Banashankari  \n",
       "2          Buffet    Banashankari  \n",
       "3          Buffet    Banashankari  \n",
       "4          Buffet    Banashankari  "
      ]
     },
     "execution_count": 3,
     "metadata": {},
     "output_type": "execute_result"
    }
   ],
   "source": [
    "print(df.shape)\n",
    "df.head()"
   ]
  },
  {
   "cell_type": "code",
   "execution_count": 4,
   "id": "2c059399-da75-48cb-abea-99538492c3b8",
   "metadata": {},
   "outputs": [],
   "source": [
    "df = df.rename(columns={\n",
    "    'name':'restaurant_name',\n",
    "    'rate':'rating',\n",
    "    'approx_cost(for two people)':'cost_for_two',\n",
    "    'listed_in(type)':'service_type'\n",
    "})"
   ]
  },
  {
   "cell_type": "code",
   "execution_count": 5,
   "id": "2f831a04-f2bb-4d81-8c7d-4a13a60bbbd5",
   "metadata": {},
   "outputs": [],
   "source": [
    "#Cleaning the rating col\n",
    "def clean_rating(value):\n",
    "    if isinstance(value, str):\n",
    "        v = value.strip()\n",
    "        if v in ['NEW', '-', 'nan', 'NaN', '']:\n",
    "            return np.nan\n",
    "        if '/5' in v:\n",
    "            try:\n",
    "                return float(v.split('/')[0])\n",
    "            except:\n",
    "                return np.nan\n",
    "        try:\n",
    "            return float(v)\n",
    "        except:\n",
    "            return np.nan\n",
    "    return np.nan\n",
    "\n",
    "df['rating_clean'] = df['rating'].apply(clean_rating)\n"
   ]
  },
  {
   "cell_type": "code",
   "execution_count": 6,
   "id": "f2275535-cc8b-4e2f-b966-ae2b1f6aa2d4",
   "metadata": {},
   "outputs": [],
   "source": [
    "# cleaning the cost for two col\n",
    "def clean_cost(x):\n",
    "    try:\n",
    "        return float(str(x).replace(',', '').strip())\n",
    "    except:\n",
    "        return np.nan\n",
    "\n",
    "df['cost_for_two_clean'] = df['cost_for_two'].apply(clean_cost)\n"
   ]
  },
  {
   "cell_type": "code",
   "execution_count": 7,
   "id": "67f84e83-8900-4765-bdf8-9fc0a5050c33",
   "metadata": {},
   "outputs": [],
   "source": [
    "# convert yes/no fields to binary flags\n",
    "df['online_order_flag'] = df['online_order'].apply(lambda x: 1 if str(x).strip().lower()=='yes' else 0)\n",
    "df['book_table_flag'] = df['book_table'].apply(lambda x: 1 if str(x).strip().lower()=='yes' else 0)\n"
   ]
  },
  {
   "cell_type": "code",
   "execution_count": 8,
   "id": "3b843adc-35c7-4153-9999-887d2f001810",
   "metadata": {},
   "outputs": [],
   "source": [
    "# dropping useless duplicate files\n",
    "# Drop rows where both rating and cost are missing\n",
    "df = df.dropna(subset=['rating_clean', 'cost_for_two_clean'], how='all')\n",
    "\n",
    "# Remove duplicates (if any)\n",
    "df = df.drop_duplicates(subset=['restaurant_name','location','cost_for_two_clean'])\n"
   ]
  },
  {
   "cell_type": "code",
   "execution_count": 9,
   "id": "f39849f2-0e6e-41af-8615-3a6ea1f63d5e",
   "metadata": {},
   "outputs": [],
   "source": [
    "# assigning unique IDs\n",
    "df = df.reset_index(drop=True)\n",
    "df['restaurant_id'] = df.index + 1\n"
   ]
  },
  {
   "cell_type": "code",
   "execution_count": 10,
   "id": "8287a24f-7d48-41cf-bcc6-b2f2bda159ef",
   "metadata": {},
   "outputs": [],
   "source": [
    "# saving cleaned files\n",
    "zomato_clean = df[['restaurant_id','restaurant_name','location',\n",
    "                   'rating_clean','votes','cost_for_two_clean',\n",
    "                   'service_type','online_order','book_table','cuisines']]\n",
    "\n",
    "zomato_clean.to_csv(r\"E:\\Major Projects\\Zomato Geospatial Case Study\\data\\raw\\processed\\cleaned\\zomato_clean.csv\", index=False)"
   ]
  },
  {
   "cell_type": "code",
   "execution_count": 11,
   "id": "3d9ca219-bd68-4a36-9eb3-e562d4fb22c1",
   "metadata": {},
   "outputs": [],
   "source": [
    "df = pd.read_csv(r\"E:\\Major Projects\\Zomato Geospatial Case Study\\data\\raw\\processed\\cleaned\\zomato_clean.csv\")"
   ]
  },
  {
   "cell_type": "code",
   "execution_count": 12,
   "id": "fec1d73b-1ed9-46ff-ba9b-d2983c38fb2f",
   "metadata": {},
   "outputs": [],
   "source": [
    "df['cuisines'] = df['cuisines'].fillna(\"\").str.split(\",\")\n",
    "df_cuisines = df.explode('cuisines')"
   ]
  },
  {
   "cell_type": "code",
   "execution_count": 13,
   "id": "7a59abe5-83ae-4803-a3fb-1dd2653155c3",
   "metadata": {},
   "outputs": [],
   "source": [
    "df_cuisines['cuisines'] = df_cuisines['cuisines'].str.strip()"
   ]
  },
  {
   "cell_type": "code",
   "execution_count": 14,
   "id": "21d16d45-dfb0-42d7-94b9-35fdf5d93b66",
   "metadata": {},
   "outputs": [
    {
     "name": "stdout",
     "output_type": "stream",
     "text": [
      "Saved\n"
     ]
    }
   ],
   "source": [
    "df_cuisines.to_csv(r\"E:\\Major Projects\\Zomato Geospatial Case Study\\data\\raw\\processed\\cleaned\\RestaurantCuisines.csv\", index = False)\n",
    "print(\"Saved\")"
   ]
  },
  {
   "cell_type": "markdown",
   "id": "2088875d-5b47-4350-982a-663cbe686ba3",
   "metadata": {},
   "source": [
    "## Geocoding (Geospatial Analysis)"
   ]
  },
  {
   "cell_type": "code",
   "execution_count": 15,
   "id": "bcd89515-1ff4-4ec3-98a8-5c8c16cffa72",
   "metadata": {},
   "outputs": [
    {
     "name": "stdout",
     "output_type": "stream",
     "text": [
      "Requirement already satisfied: geopandas in e:\\anaconda3\\lib\\site-packages (1.1.1)\n",
      "Requirement already satisfied: numpy>=1.24 in e:\\anaconda3\\lib\\site-packages (from geopandas) (2.2.5)\n",
      "Requirement already satisfied: pyogrio>=0.7.2 in e:\\anaconda3\\lib\\site-packages (from geopandas) (0.11.1)\n",
      "Requirement already satisfied: packaging in e:\\anaconda3\\lib\\site-packages (from geopandas) (25.0)\n",
      "Requirement already satisfied: pandas>=2.0.0 in e:\\anaconda3\\lib\\site-packages (from geopandas) (2.3.1)\n",
      "Requirement already satisfied: pyproj>=3.5.0 in e:\\anaconda3\\lib\\site-packages (from geopandas) (3.7.2)\n",
      "Requirement already satisfied: shapely>=2.0.0 in e:\\anaconda3\\lib\\site-packages (from geopandas) (2.1.1)\n",
      "Requirement already satisfied: python-dateutil>=2.8.2 in e:\\anaconda3\\lib\\site-packages (from pandas>=2.0.0->geopandas) (2.9.0.post0)\n",
      "Requirement already satisfied: pytz>=2020.1 in e:\\anaconda3\\lib\\site-packages (from pandas>=2.0.0->geopandas) (2025.2)\n",
      "Requirement already satisfied: tzdata>=2022.7 in e:\\anaconda3\\lib\\site-packages (from pandas>=2.0.0->geopandas) (2025.2)\n",
      "Requirement already satisfied: certifi in e:\\anaconda3\\lib\\site-packages (from pyogrio>=0.7.2->geopandas) (2025.8.3)\n",
      "Requirement already satisfied: six>=1.5 in e:\\anaconda3\\lib\\site-packages (from python-dateutil>=2.8.2->pandas>=2.0.0->geopandas) (1.17.0)\n",
      "Note: you may need to restart the kernel to use updated packages.\n"
     ]
    }
   ],
   "source": [
    "pip install geopandas"
   ]
  },
  {
   "cell_type": "code",
   "execution_count": 16,
   "id": "964dc6a8-eb64-4e79-8a6d-6af9caa1d0c1",
   "metadata": {},
   "outputs": [],
   "source": [
    "import geopandas as gpd\n",
    "import pyodbc"
   ]
  },
  {
   "cell_type": "code",
   "execution_count": 17,
   "id": "209dccb0-4f6d-4f13-8673-bbbf46b639d2",
   "metadata": {},
   "outputs": [
    {
     "name": "stdout",
     "output_type": "stream",
     "text": [
      "Requirement already satisfied: geopy in e:\\python\\lib\\site-packages (2.4.1)\n",
      "Requirement already satisfied: geographiclib<3,>=1.52 in e:\\python\\lib\\site-packages (from geopy) (2.1)\n"
     ]
    }
   ],
   "source": [
    "!pip install geopy --user"
   ]
  },
  {
   "cell_type": "code",
   "execution_count": 18,
   "id": "285f1e52-87e1-45bd-9607-cb43ce005645",
   "metadata": {},
   "outputs": [
    {
     "name": "stdout",
     "output_type": "stream",
     "text": [
      "E:\\anaconda3\\python.exe\n"
     ]
    }
   ],
   "source": [
    "import sys\n",
    "print(sys.executable)"
   ]
  },
  {
   "cell_type": "code",
   "execution_count": 19,
   "id": "38f48227-5a20-4dee-90a4-6557bfa22dce",
   "metadata": {},
   "outputs": [
    {
     "name": "stdout",
     "output_type": "stream",
     "text": [
      "Requirement already satisfied: geopy in e:\\anaconda3\\lib\\site-packages (2.4.1)\n",
      "Requirement already satisfied: geographiclib<3,>=1.52 in e:\\anaconda3\\lib\\site-packages (from geopy) (2.1)\n"
     ]
    }
   ],
   "source": [
    "!{sys.executable} -m pip install geopy"
   ]
  },
  {
   "cell_type": "code",
   "execution_count": 20,
   "id": "dc519caf-edcd-4095-8717-535fb06f2647",
   "metadata": {},
   "outputs": [
    {
     "name": "stdout",
     "output_type": "stream",
     "text": [
      "2.4.1\n"
     ]
    }
   ],
   "source": [
    "import geopy\n",
    "print(geopy.__version__)"
   ]
  },
  {
   "cell_type": "code",
   "execution_count": 21,
   "id": "0621ea2f-9680-414d-9299-3699aff7cf3b",
   "metadata": {},
   "outputs": [],
   "source": [
    "from geopy.geocoders import Nominatim\n",
    "from geopy.extra.rate_limiter import RateLimiter"
   ]
  },
  {
   "cell_type": "code",
   "execution_count": 22,
   "id": "c3912182-358a-4cc1-9fd3-6fb879bbfd8b",
   "metadata": {},
   "outputs": [],
   "source": [
    "# Use unique locations to avoid duplicate API calls\n",
    "unique_locations = df['location'].dropna().unique()"
   ]
  },
  {
   "cell_type": "code",
   "execution_count": 23,
   "id": "5060e1ed-43fa-40aa-a693-00fd72c88b64",
   "metadata": {},
   "outputs": [],
   "source": [
    "geolocator = Nominatim(user_agent=\"zomato_geocoder\")\n",
    "geocode = RateLimiter(geolocator.geocode, min_delay_seconds=1)"
   ]
  },
  {
   "cell_type": "code",
   "execution_count": null,
   "id": "f763deba-5a1d-4805-b980-2377d72f2393",
   "metadata": {},
   "outputs": [],
   "source": [
    "# Collect results\n",
    "location_data = []\n",
    "for loc in unique_locations:\n",
    "    try:\n",
    "        g = geocode(loc + \", Bangalore, India\")  # add city for better accuracy\n",
    "        if g:\n",
    "            location_data.append({\n",
    "                \"location\": loc,\n",
    "                \"latitude\": g.latitude,\n",
    "                \"longitude\": g.longitude\n",
    "            })\n",
    "        else:\n",
    "            location_data.append({\n",
    "                \"location\": loc,\n",
    "                \"latitude\": None,\n",
    "                \"longitude\": None\n",
    "            })\n",
    "    except Exception as e:\n",
    "        print(f\"Error for {loc}: {e}\")\n",
    "        location_data.append({\n",
    "            \"location\": loc,\n",
    "            \"latitude\": None,\n",
    "            \"longitude\": None\n",
    "        })"
   ]
  },
  {
   "cell_type": "code",
   "execution_count": 25,
   "id": "83590e53-e891-499e-a015-ee0e2fcaafde",
   "metadata": {},
   "outputs": [
    {
     "name": "stdout",
     "output_type": "stream",
     "text": [
      "✅ Geocoding completed & saved to locations.csv\n"
     ]
    }
   ],
   "source": [
    "# Save locations to CSV\n",
    "locations_df = pd.DataFrame(location_data)\n",
    "locations_df.to_csv(r\"E:\\Major Projects\\Zomato Geospatial Case Study\\data\\raw\\processed\\cleaned\\locations.csv\", index=False)\n",
    "\n",
    "print(\"✅ Geocoding completed & saved to locations.csv\")"
   ]
  },
  {
   "cell_type": "code",
   "execution_count": 26,
   "id": "89cbf16f-c356-471e-92db-a95086d9bc12",
   "metadata": {},
   "outputs": [],
   "source": [
    "conn = pyodbc.connect(\n",
    "    \"Driver={ODBC Driver 17 for SQL Server};\"\n",
    "    \"Server=LAPTOP-KT5S5Q1A\\\\SQLEXPRESS;\"\n",
    "    \"Database=Zomato_db;\"\n",
    "    \"Trusted_Connection=yes;\"\n",
    "    \"MARS_Connection=Yes;\"\n",
    ")"
   ]
  },
  {
   "cell_type": "code",
   "execution_count": null,
   "id": "3696200d-5ad2-4f1d-bc65-543ee675ef95",
   "metadata": {},
   "outputs": [],
   "source": [
    "Restaurants = pd.read_sql_query(\"\"\"\n",
    "    SELECT RestaurantID, Name, Location, AverageCostForTwo, PriceRange,\n",
    "           AggregateRating, Votes, Latitude, Longitude\n",
    "    FROM Restaurants\n",
    "\"\"\", conn)"
   ]
  },
  {
   "cell_type": "code",
   "execution_count": 28,
   "id": "8571523c-b3a7-4e14-965d-49c66542b71f",
   "metadata": {},
   "outputs": [],
   "source": [
    "import geopandas as gpd\n",
    "from shapely.geometry import Point"
   ]
  },
  {
   "cell_type": "code",
   "execution_count": 29,
   "id": "7e525078-d87d-4a0f-9ad2-64391074e76d",
   "metadata": {},
   "outputs": [
    {
     "name": "stdout",
     "output_type": "stream",
     "text": [
      "   RestaurantID                   Name      Location  AverageCostForTwo  \\\n",
      "0             1                  Jalsa  Banashankari              800.0   \n",
      "1             2         Spice Elephant  Banashankari              800.0   \n",
      "2             3        San Churro Cafe  Banashankari              800.0   \n",
      "3             4  Addhuri Udupi Bhojana  Banashankari              300.0   \n",
      "4             5          Grand Village  Basavanagudi              600.0   \n",
      "\n",
      "  PriceRange  AggregateRating  Votes   Latitude  Longitude  \\\n",
      "0       None              4.1    775  12.927819  77.556618   \n",
      "1       None              4.1    787  12.927819  77.556618   \n",
      "2       None              3.8    918  12.927819  77.556618   \n",
      "3       None              3.7     88  12.927819  77.556618   \n",
      "4       None              3.8    166  12.941726  77.575500   \n",
      "\n",
      "                    geometry  \n",
      "0  POINT (77.55662 12.92782)  \n",
      "1  POINT (77.55662 12.92782)  \n",
      "2  POINT (77.55662 12.92782)  \n",
      "3  POINT (77.55662 12.92782)  \n",
      "4   POINT (77.5755 12.94173)  \n"
     ]
    }
   ],
   "source": [
    "# Create geometry column from lat/lon\n",
    "geometry = [Point(xy) for xy in zip(Restaurants['Longitude'], Restaurants['Latitude'])]\n",
    "\n",
    "# Build GeoDataFrame\n",
    "gdf = gpd.GeoDataFrame(Restaurants, geometry=geometry, crs=\"EPSG:4326\")\n",
    "\n",
    "print(gdf.head())"
   ]
  },
  {
   "cell_type": "code",
   "execution_count": 30,
   "id": "51b34934-99b5-44f5-afd3-b0601903fff5",
   "metadata": {},
   "outputs": [],
   "source": [
    "import plotly.express as px"
   ]
  },
  {
   "cell_type": "code",
   "execution_count": null,
   "id": "995399ad-dbc5-4177-9530-49dd37f6ac80",
   "metadata": {},
   "outputs": [],
   "source": [
    "# Plot restaurants as scatter mapbox\n",
    "fig = px.scatter_mapbox(\n",
    "    gdf,\n",
    "    lat=\"Latitude\",\n",
    "    lon=\"Longitude\",\n",
    "    color=\"AggregateRating\",   # color by rating\n",
    "    size=\"Votes\",              # bubble size by votes\n",
    "    hover_name=\"Name\",\n",
    "    hover_data=[\"Location\", \"AverageCostForTwo\"],\n",
    "    zoom=11,\n",
    "    height=600\n",
    ")\n",
    "\n",
    "fig.update_layout(mapbox_style=\"open-street-map\")\n",
    "fig.show()"
   ]
  },
  {
   "cell_type": "code",
   "execution_count": null,
   "id": "3291f6c1-7943-49bc-b0f4-5ec9ea92d618",
   "metadata": {},
   "outputs": [],
   "source": [
    "fig = px.density_mapbox(\n",
    "    gdf,\n",
    "    lat=\"Latitude\",\n",
    "    lon=\"Longitude\",\n",
    "    z=None,  # just counts density\n",
    "    radius=15,\n",
    "    center=dict(lat=gdf[\"Latitude\"].mean(), lon=gdf[\"Longitude\"].mean()),\n",
    "    zoom=11,\n",
    "    mapbox_style=\"open-street-map\",\n",
    "    title=\"Restaurant Density Heatmap\"\n",
    ")\n",
    "fig.show()\n"
   ]
  },
  {
   "cell_type": "code",
   "execution_count": null,
   "id": "ad5f6c8c-6e71-4f08-a978-246628bccf52",
   "metadata": {},
   "outputs": [],
   "source": [
    "top_cuisines = df_cuisines['cuisines'].value_counts().nlargest(10)\n",
    "\n",
    "fig = px.bar(\n",
    "    top_cuisines,\n",
    "    x=top_cuisines.index,\n",
    "    y=top_cuisines.values,\n",
    "    title=\"Top 10 Cuisines in Bangalore\",\n",
    "    labels={\"x\":\"Cuisine\", \"y\":\"Count\"}\n",
    ")\n",
    "fig.show()\n"
   ]
  },
  {
   "cell_type": "code",
   "execution_count": null,
   "id": "b6f97788-71e4-421a-b6d9-41df483e12e7",
   "metadata": {},
   "outputs": [],
   "source": [
    "fig = px.scatter(\n",
    "    gdf,\n",
    "    x=\"AverageCostForTwo\",\n",
    "    y=\"AggregateRating\",\n",
    "    size=\"Votes\",\n",
    "    color=\"Location\",\n",
    "    hover_name=\"Name\",\n",
    "    title=\"Price vs Rating of Restaurants\"\n",
    ")\n",
    "fig.show()\n"
   ]
  },
  {
   "cell_type": "code",
   "execution_count": null,
   "id": "e02702f3-555e-41f9-ac10-905660c20485",
   "metadata": {},
   "outputs": [],
   "source": [
    "import plotly.express as px\n",
    "\n",
    "# Count restaurants per location\n",
    "location_stats = Restaurants.groupby(\"Location\").agg({\n",
    "    \"RestaurantID\": \"count\",\n",
    "    \"Votes\": \"sum\",\n",
    "    \"AggregateRating\": \"mean\"\n",
    "}).reset_index()\n",
    "\n",
    "location_stats.rename(columns={\n",
    "    \"RestaurantID\": \"Num_Restaurants\",\n",
    "    \"Votes\": \"Total_Votes\",\n",
    "    \"AggregateRating\": \"Avg_Rating\"\n",
    "}, inplace=True)\n",
    "\n",
    "# Define \"underserved\" as: low restaurants but high votes (demand > supply)\n",
    "location_stats[\"Demand_Supply_Gap\"] = location_stats[\"Total_Votes\"] / (location_stats[\"Num_Restaurants\"] + 1)\n",
    "\n",
    "# Sort top 15 underserved locations\n",
    "underserved = location_stats.sort_values(\"Demand_Supply_Gap\", ascending=False).head(15)\n",
    "\n",
    "# Bar chart\n",
    "fig = px.bar(\n",
    "    underserved,\n",
    "    x=\"Location\",\n",
    "    y=\"Demand_Supply_Gap\",\n",
    "    color=\"Avg_Rating\",\n",
    "    title=\"Top 15 Underserved Locations (High Demand, Low Supply)\",\n",
    "    labels={\"Demand_Supply_Gap\": \"Votes per Restaurant\"},\n",
    "    text=\"Num_Restaurants\"\n",
    ")\n",
    "fig.update_traces(textposition=\"outside\")\n",
    "fig.show()\n"
   ]
  },
  {
   "cell_type": "code",
   "execution_count": null,
   "id": "67f4b568-a587-42b7-b140-fcfc17f10272",
   "metadata": {},
   "outputs": [],
   "source": []
  },
  {
   "cell_type": "code",
   "execution_count": null,
   "id": "109dc06b-deca-474e-b9ce-ee4be5bfce8e",
   "metadata": {},
   "outputs": [],
   "source": []
  }
 ],
 "metadata": {
  "kernelspec": {
   "display_name": "Python 3 (ipykernel)",
   "language": "python",
   "name": "python3"
  },
  "language_info": {
   "codemirror_mode": {
    "name": "ipython",
    "version": 3
   },
   "file_extension": ".py",
   "mimetype": "text/x-python",
   "name": "python",
   "nbconvert_exporter": "python",
   "pygments_lexer": "ipython3",
   "version": "3.13.5"
  }
 },
 "nbformat": 4,
 "nbformat_minor": 5
}
